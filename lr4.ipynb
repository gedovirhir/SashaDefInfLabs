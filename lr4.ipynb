{
 "cells": [
  {
   "cell_type": "code",
   "execution_count": 1,
   "metadata": {},
   "outputs": [],
   "source": [
    "import random\n",
    "import math "
   ]
  },
  {
   "cell_type": "code",
   "execution_count": 2,
   "metadata": {},
   "outputs": [],
   "source": [
    "k = 25\n",
    "alph = \"ABCDEFGHIJKLMNOPQRSTUVWXYZ\""
   ]
  },
  {
   "cell_type": "code",
   "execution_count": 3,
   "metadata": {},
   "outputs": [],
   "source": [
    "def getCaesarAlph(k, keyword, alph):\n",
    "    keyword = keyword.upper()\n",
    "    ln = len(alph) #длина алфавита\n",
    "    usAlph = alph\n",
    "    shAlph = [i for i in alph] #зашифрованный алфавит \n",
    "    indexes = [i for i in range(ln)] #индексы алфавита\n",
    "    endind = 0 #индекс первого элемента после зашифрованного слова\n",
    "    for i in range(len(keyword)): #заменяем буквы алфавита на буквы слова\n",
    "        endind = (k+i) % ln \n",
    "        indexes.remove(endind)\n",
    "        shAlph[endind] = keyword[i]\n",
    "        usAlph = usAlph.replace(keyword[i], '')\n",
    "    startind = indexes.index(endind+1)\n",
    "    for i in range(len(indexes)): #заменяем оставльные буквы алфавита\n",
    "        shAlph[(indexes[startind]+i) % ln] = usAlph[i]\n",
    "    alph += alph.lower()\n",
    "    shAlph += [i for i in map(lambda x: x.lower(), shAlph)]\n",
    "    res = dict(zip([i for i in alph], shAlph)), dict(zip( shAlph, [i for i in alph]))\n",
    "\n",
    "    return res #[0] -шифровка , [1] - дешифровка\n",
    "def caeasarShifr(word, k, keyword, deSh = False, alph = alph, **kwargs):\n",
    "    a = getCaesarAlph(k, keyword, alph)\n",
    "    res = ''\n",
    "    if deSh:\n",
    "        for i in word:\n",
    "            if i.isAlpha():\n",
    "                res += a[1][i]\n",
    "            else:\n",
    "                res += i\n",
    "    else:\n",
    "        for i in word:\n",
    "            res += a[0][i]\n",
    "    return res"
   ]
  },
  {
   "cell_type": "code",
   "execution_count": 4,
   "metadata": {},
   "outputs": [],
   "source": [
    "def substitutionSh(word, k, deSh = False, **kwargs):\n",
    "    delta = -k if deSh else k #определяем отступ\n",
    "    alphc = ord(\"Z\") - ord(\"A\") + 1 #размер алфавита\n",
    "    res = ''\n",
    "    for i in word:\n",
    "        if not i.isalpha():\n",
    "            continue\n",
    "        if i.islower(): #сдвигаем элемент по ascii таблице в зависимости от регистра\n",
    "            res += chr((ord(i) + delta - ord(\"a\")) % alphc + ord(\"a\")) \n",
    "        else:\n",
    "            res += chr((ord(i) + delta - ord(\"A\")) % alphc + ord(\"A\"))\n",
    "    return res"
   ]
  },
  {
   "cell_type": "code",
   "execution_count": 5,
   "metadata": {},
   "outputs": [],
   "source": [
    "def getChK(char): #функция возвращает номер буквы в рамках алфавита\n",
    "    if char.islower():\n",
    "        return ord(char) - ord('a')\n",
    "    else:\n",
    "        return ord(char) - ord('A')\n",
    "def shifViszher(word, keyword, deSh = False, **kwargs):\n",
    "    rot = [getChK(i)+1 for i in keyword] #определяем массив сдвигов ROT\n",
    "    res = ''\n",
    "    for i, k in zip(word, range(len(word))): #применяем сдвиг в зависимости от ключевого слова\n",
    "        rotind = k % len(rot)\n",
    "        if i.isAlpha():\n",
    "            res += substitutionSh(i, rot[rotind], deSh)\n",
    "        else:\n",
    "            res += i\n",
    "    return res"
   ]
  },
  {
   "cell_type": "code",
   "execution_count": 6,
   "metadata": {},
   "outputs": [],
   "source": [
    "def shifer(shifr, word, k = None, keyword = None, deSh = False): #shifr = {\"caesar\", \"sub\", \"viszh\"}\n",
    "    funcs = {\n",
    "        \"caesar\" : caeasarShifr,\n",
    "        \"sub\" : substitutionSh, \n",
    "        \"viszh\" : shifViszher\n",
    "    }\n",
    "    return(funcs[shifr](word = word, k = k, keyword = keyword, deSh = deSh))\n",
    "        "
   ]
  },
  {
   "cell_type": "code",
   "execution_count": 7,
   "metadata": {},
   "outputs": [
    {
     "name": "stdout",
     "output_type": "stream",
     "text": [
      "bcd\n"
     ]
    }
   ],
   "source": [
    "print(shifer(\"viszh\", word = \"abc\", keyword=\"a\"))"
   ]
  }
 ],
 "metadata": {
  "interpreter": {
   "hash": "4fee5f00e471604f138b2a95ee5c96a7fea853470284bcce1030f4018e4910da"
  },
  "kernelspec": {
   "display_name": "Python 3.9.10 64-bit",
   "language": "python",
   "name": "python3"
  },
  "language_info": {
   "codemirror_mode": {
    "name": "ipython",
    "version": 3
   },
   "file_extension": ".py",
   "mimetype": "text/x-python",
   "name": "python",
   "nbconvert_exporter": "python",
   "pygments_lexer": "ipython3",
   "version": "3.9.10"
  },
  "orig_nbformat": 4
 },
 "nbformat": 4,
 "nbformat_minor": 2
}
