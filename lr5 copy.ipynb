{
 "cells": [
  {
   "cell_type": "code",
   "execution_count": 10,
   "metadata": {},
   "outputs": [],
   "source": [
    "import math"
   ]
  },
  {
   "cell_type": "code",
   "execution_count": 11,
   "metadata": {},
   "outputs": [],
   "source": [
    "def subShifr(word, k, deshifrovka = False, **kwargs):\n",
    "    delta = -k if deshifrovka else k #определяем отступ\n",
    "    ln = ord(\"Z\") - ord(\"A\") + 1 #размер алфавита\n",
    "    text = ''\n",
    "    for i in word:\n",
    "        if not i.isalpha():\n",
    "            text += i\n",
    "        elif i.isalpha() and i.islower(): #сдвигаем элемент по ascii таблице в зависимости от регистра\n",
    "            text += chr((ord(i) + delta - ord(\"a\")) % ln + ord(\"a\")) \n",
    "        elif i.isalpha():\n",
    "            text += chr((ord(i) + delta - ord(\"A\")) % ln + ord(\"A\"))\n",
    "    return text"
   ]
  },
  {
   "cell_type": "code",
   "execution_count": 12,
   "metadata": {},
   "outputs": [],
   "source": [
    "#Частота букв\n",
    "ngram = \"zqjxkvbwypgumcfldhsirnoate\" #1-граммы\n",
    "ngram = ['th', 'he', 'in', 'er', 'an', 're', 'on', 'at', 'en', 'nd', 'ti', 'es', 'or', 'te', 'of', 'ed', 'is', 'it', 'al', 'ar'] #2-граммы \n",
    "frequency = [0.07, 0.11, 0.13, 0.15, 0.4, 0.9, 1.4, 1.5, 1.9, 1.9, 2, 2.4, 2.5, 2.7, 2.9, 3.4, 3.8, 5.2, 6.1, 6.3, 6.8, 7.1, 7.9, 8.1, 10.5, 13] #1-граммы\n",
    "frequency = [3.56,3.07,2.43,2.05,1.99,1.85,1.76,1.49,1.45,1.35,1.34,1.34,1.28,1.20,1.17,1.17,1.13,1.12,1.09,1.07]\n",
    "freq = dict(zip(ngram, [round(i / 100, 4) for i in frequency])) #словарь соответствий"
   ]
  },
  {
   "cell_type": "code",
   "execution_count": 13,
   "metadata": {},
   "outputs": [],
   "source": [
    "with open(\"text.txt\") as f: #считываем текст из файла\n",
    "    mainText = f.read()"
   ]
  },
  {
   "cell_type": "code",
   "execution_count": 15,
   "metadata": {},
   "outputs": [],
   "source": [
    "def wordLen(string, wordLn = 1): #подсчет количества слов длины wordLn\n",
    "    ln = [0]\n",
    "    word = ''\n",
    "    for i in string:\n",
    "        if i.isalpha():\n",
    "            word += i.lower()\n",
    "            if len(word) == wordLn:\n",
    "                ln[0] += 1\n",
    "                word = word[1:]\n",
    "        else:\n",
    "            word = ''\n",
    "    return ln[0]\n",
    "def wordCount(string, wordLn = 1): #подсчитываем количественные отношения всех слов длины wordLn к общему кол-ву слов\n",
    "    cnt = dict({})\n",
    "    ln = wordLen(string, wordLn)\n",
    "    word = ''\n",
    "    for i in string:\n",
    "        if i.isalpha():\n",
    "            word += i.lower()\n",
    "            if len(word) == wordLn:\n",
    "                if word not in cnt:\n",
    "                    cnt.update({word : 1 / ln})\n",
    "                else:\n",
    "                    cnt[word] += 1 / ln\n",
    "                word = word[1:]\n",
    "        else:\n",
    "            word = ''\n",
    "    return cnt"
   ]
  },
  {
   "cell_type": "code",
   "execution_count": 16,
   "metadata": {},
   "outputs": [],
   "source": [
    "def sortDict(dictt): #сортировка словаря по values\n",
    "    return dict(sorted(dictt.items(), key= lambda x: x[1], reverse=True))"
   ]
  },
  {
   "cell_type": "code",
   "execution_count": 19,
   "metadata": {},
   "outputs": [],
   "source": [
    "def chastDeshifr(string, wordLn = 1, freq = freq, markReplace = ''): #дешифровка частотным методом, markReplace - символ для выделения измененных символов\n",
    "    freq = sortDict(freq) #словарь введенных частот\n",
    "    allpc = sortDict(wordCount(string, wordLn)) #словрь подсчитанных в зашифрованном тексте\n",
    "    replaceDict = dict(zip(allpc.keys(), freq.keys())) # словарь соответвия\n",
    "    text = ['']\n",
    "    #заменяем все слова соответствующие словарю соответствия\n",
    "    word = ''\n",
    "    for i in string:\n",
    "        if i.isalpha():\n",
    "            word += i.lower()\n",
    "            if len(word) == wordLn:\n",
    "                if word in replaceDict:\n",
    "                    text[0] += markReplace +  replaceDict[word] + markReplace\n",
    "                    word = ''\n",
    "                else:\n",
    "                    text[0] += word[0]\n",
    "                    word = word[1:]\n",
    "        else:\n",
    "            text[0] += word\n",
    "            word = ''\n",
    "    \n",
    "    return text[0]"
   ]
  },
  {
   "cell_type": "code",
   "execution_count": 21,
   "metadata": {},
   "outputs": [
    {
     "name": "stdout",
     "output_type": "stream",
     "text": [
      "Adolf Hitler was an Austrian-born German politician who was the dictator of Germany from 1933 until his death in 1945. He rose to power as the leader of the Nazi Party,[a] becoming the chancellor in 1933 and then assuming the title of FГјhrer und Reichskanzler in 1934.[b] During his dictatorship, he initiated World War II in Europe by invading Poland on 1 September 1939. He was closely involved in military operations throughout the war and was central to the perpetration of the Holocaust, the genocide of about six million Jews and millions of other victims.\n",
      "\n",
      "Hitler was born in Austria-Hungary and was raised near Linz. He lived in Vienna later in the first decade of the 1900s and moved to Germany in 1913. He was decorated during his service in the German Army in World War I. In 1919, he joined the German Workers' Party (DAP), the precursor of the Nazi Party, and was appointed leader of the Nazi Party in 1921. In 1923, he attempted to seize governmental power in a failed coup in Munich and was imprisoned with a sentence of five years. In jail, he dictated the first volume of his autobiography and political manifesto Mein Kampf (\"My Struggle\"). After his early release in 1924, Hitler gained popular support by attacking the Treaty of Versailles and promoting pan-Germanism, anti-Semitism and anti-communism with charismatic oratory and Nazi propaganda. He frequently denounced international capitalism and communism as part of a Jewish conspiracy.\n",
      "\n",
      "By November 1932, the Nazi Party held the most seats in the German Reichstag, but did not have a majority. As a result, no party was able to form a majority parliamentary coalition in support of a candidate for chancellor. Former chancellor Franz von Papen and other conservative leaders persuaded President Paul von Hindenburg to appoint Hitler as chancellor on 30 January 1933. Shortly after, the Reichstag passed the Enabling Act of 1933 which began the process of transforming the Weimar Republic into Nazi Germany, a one-party dictatorship based on the totalitarian and autocratic ideology of Nazism. Hitler aimed to eliminate Jews from Germany and establish a New Order to counter what he saw as the injustice of the post-World War I international order dominated by Britain and France. His first six years in power resulted in rapid economic recovery from the Great Depression, the abrogation of restrictions imposed on Germany after World War I, and the annexation of territories inhabited by millions of ethnic Germans, which gave him significant popular support.\n",
      "\n",
      "Hitler sought Lebensraum (lit.вЂ‰'living space') for the German people in Eastern Europe, and his aggressive foreign policy is considered the primary cause of World War II in Europe. He directed large-scale rearmament and, on 1 September 1939, invaded Poland, resulting in Britain and France declaring war on Germany. In June 1941, Hitler ordered an invasion of the Soviet Union. By the end of 1941, German forces and the European Axis powers occupied most of Europe and North Africa. These gains were gradually reversed after 1941, and in 1945 the Allied armies defeated the German army. On 29 April 1945, he married his longtime lover, Eva Braun, in the FГјhrerbunker in Berlin. Less than two days later, the couple committed suicide to avoid capture by the Soviet Red Army. Their corpses were burned.\n",
      "\n",
      "Historian and biographer Ian Kershaw describes Hitler as \"the embodiment of modern political evil\".[4] Under Hitler's leadership and racially motivated ideology, the Nazi regime was responsible for the genocide of about six million Jews and millions of other victims, whom he and his followers deemed Untermenschen (subhumans) or socially undesirable. Hitler and the Nazi regime were also responsible for the killing of an estimated 19.3 million civilians and prisoners of war. In addition, 28.7 million soldiers and civilians died as a result of military action in the European theatre. The number of civilians killed during World War II was unprecedented in warfare, and the casualties constitute the deadliest conflict in history. \n",
      "\n",
      "cccddd \n",
      "\n",
      "thinhe \n",
      "\n"
     ]
    }
   ],
   "source": [
    "print(mainText, \"\\n\")\n",
    "print(subShifr(mainText, 2), \"\\n\")\n",
    "print(chastDeshifr(subShifr(mainText, 2), 2), \"\\n\")"
   ]
  }
 ],
 "metadata": {
  "interpreter": {
   "hash": "4fee5f00e471604f138b2a95ee5c96a7fea853470284bcce1030f4018e4910da"
  },
  "kernelspec": {
   "display_name": "Python 3.9.10 64-bit",
   "language": "python",
   "name": "python3"
  },
  "language_info": {
   "codemirror_mode": {
    "name": "ipython",
    "version": 3
   },
   "file_extension": ".py",
   "mimetype": "text/x-python",
   "name": "python",
   "nbconvert_exporter": "python",
   "pygments_lexer": "ipython3",
   "version": "3.9.10"
  },
  "orig_nbformat": 4
 },
 "nbformat": 4,
 "nbformat_minor": 2
}
