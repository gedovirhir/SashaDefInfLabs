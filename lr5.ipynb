{
 "cells": [
  {
   "cell_type": "code",
   "execution_count": 37,
   "metadata": {},
   "outputs": [],
   "source": [
    "import math"
   ]
  },
  {
   "cell_type": "code",
   "execution_count": 39,
   "metadata": {},
   "outputs": [],
   "source": [
    "def substitutionSh(word, k, deSh = False, **kwargs):\n",
    "    delta = -k if deSh else k #определяем отступ\n",
    "    alphc = ord(\"Z\") - ord(\"A\") + 1 #размер алфавита\n",
    "    res = ''\n",
    "    for i in word:\n",
    "        if not i.isalpha():\n",
    "            res += i\n",
    "            continue\n",
    "        if i.islower(): #сдвигаем элемент по ascii таблице в зависимости от регистра\n",
    "            res += chr((ord(i) + delta - ord(\"a\")) % alphc + ord(\"a\")) \n",
    "        else:\n",
    "            res += chr((ord(i) + delta - ord(\"A\")) % alphc + ord(\"A\"))\n",
    "    return res\n",
    "alph = \"ABCDEFGHIJKLMNOPQRSTUVWXYZ\"\n",
    "def getCaesarAlph(k, keyword, alph):\n",
    "    keyword = keyword.upper()\n",
    "    ln = len(alph) #длина алфавита\n",
    "    usAlph = alph\n",
    "    shAlph = [i for i in alph] #зашифрованный алфавит \n",
    "    indexes = [i for i in range(ln)] #индексы алфавита\n",
    "    endind = 0 #индекс первого элемента после зашифрованного слова\n",
    "    for i in range(len(keyword)): #заменяем буквы алфавита на буквы слова\n",
    "        endind = (k+i) % ln \n",
    "        indexes.remove(endind)\n",
    "        shAlph[endind] = keyword[i]\n",
    "        usAlph = usAlph.replace(keyword[i], '')\n",
    "    startind = indexes.index(endind+1)\n",
    "    for i in range(len(indexes)): #заменяем оставльные буквы алфавита\n",
    "        shAlph[(indexes[startind]+i) % ln] = usAlph[i]\n",
    "    alph += alph.lower()\n",
    "    shAlph += [i for i in map(lambda x: x.lower(), shAlph)]\n",
    "    res = dict(zip([i for i in alph], shAlph)), dict(zip( shAlph, [i for i in alph]))\n",
    "\n",
    "    return res #[0] -шифровка , [1] - дешифровка\n",
    "def caeasarShifr(word, k, keyword, deSh = False, alph = alph, **kwargs):\n",
    "    a = getCaesarAlph(k, keyword, alph)\n",
    "    res = ''\n",
    "    if deSh:\n",
    "        for i in word:\n",
    "            if i.isalpha():\n",
    "                try:\n",
    "                    res += a[1][i]\n",
    "                except:\n",
    "                    res += i\n",
    "            else:\n",
    "                res += i\n",
    "    else:\n",
    "        for i in word:\n",
    "            if i.isalpha():\n",
    "                try:\n",
    "                    res += a[0][i]\n",
    "                except:\n",
    "                    res += i\n",
    "            else:\n",
    "                res += i\n",
    "    return res"
   ]
  },
  {
   "cell_type": "code",
   "execution_count": 134,
   "metadata": {},
   "outputs": [],
   "source": [
    "#Частота букв\n",
    "ABC = \"zqjxkvbwypgumcfldhsirnoate\" #1-граммы\n",
    "ABC = ['th', 'he', 'in', 'er', 'an', 're', 'on', 'at', 'en', 'nd', 'ti', 'es', 'or', 'te', 'of', 'ed', 'is', 'it', 'al', 'ar'] #2-граммы \n",
    "frequency = [0.07, 0.11, 0.13, 0.15, 0.4, 0.9, 1.4, 1.5, 1.9, 1.9, 2, 2.4, 2.5, 2.7, 2.9, 3.4, 3.8, 5.2, 6.1, 6.3, 6.8, 7.1, 7.9, 8.1, 10.5, 13] #1-граммы\n",
    "frequency = [ #2-граммы\n",
    "3.56,\n",
    "3.07,\n",
    "2.43,\n",
    "2.05,\n",
    "1.99,\n",
    "1.85,\n",
    "1.76,\n",
    "1.49,\n",
    "1.45,\n",
    "1.35,\n",
    "1.34,\n",
    "1.34,\n",
    "1.28,\n",
    "1.20,\n",
    "1.17,\n",
    "1.17,\n",
    "1.13,\n",
    "1.12,\n",
    "1.09,\n",
    "1.07\n",
    "]\n",
    "freq = dict(zip(ABC, [round(i / 100, 4) for i in frequency])) #словарь соответствий"
   ]
  },
  {
   "cell_type": "code",
   "execution_count": 29,
   "metadata": {},
   "outputs": [],
   "source": [
    "with open(\"text.txt\") as f: #считываем текст из файла\n",
    "    mainText = f.read()\n",
    "#mainText = \"By definition, IP is an estimate of the sum of the squares of the probabilities of each letter. With a multi-alphabetic substitution for the English language, depending on the number of alphabets used in encryption (m), the IP is expected\""
   ]
  },
  {
   "cell_type": "code",
   "execution_count": 141,
   "metadata": {},
   "outputs": [],
   "source": [
    "def recognizeStateMachine(func): #декоратор - конечный автомат распознвания слов длины wordLen, func - функция применяемая к распознанному слову\n",
    "    \"\"\"\n",
    "    funcOnNotAlpha - функция на обработку не буквенных символов\n",
    "    \"\"\"\n",
    "    def f(string, wordLen, funcOnNotAlpha = lambda x: x): \n",
    "        word = ''\n",
    "        for i in string:\n",
    "            if i.isalpha():\n",
    "                word += i.lower()\n",
    "                if len(word) == wordLen:\n",
    "                    word = func(word)\n",
    "            else:\n",
    "                funcOnNotAlpha(word + i)\n",
    "                word = ''\n",
    "    return f"
   ]
  },
  {
   "cell_type": "code",
   "execution_count": null,
   "metadata": {},
   "outputs": [],
   "source": [
    "def alphaLen(string, wordLen = 1): #подсчет количества слов длины wordLen\n",
    "    ln = [0]\n",
    "    @recognizeStateMachine\n",
    "    def f(word):\n",
    "        ln[0] += 1\n",
    "        return word[1:]\n",
    "    f(string, wordLen)\n",
    "    return ln[0]\n",
    "def alphaCount(string, wordLen = 1): #подсчитываем количественные отношения всех слов длины wordLen к общему кол-ву слов\n",
    "    res = dict({})\n",
    "    ln = alphaLen(string, wordLen)\n",
    "    @recognizeStateMachine\n",
    "    def f(word):\n",
    "        if word not in res:\n",
    "            res.update({word : 1 / ln})\n",
    "        else:\n",
    "            res[word] += 1 / ln\n",
    "        return word[1:]\n",
    "    f(string, wordLen)\n",
    "    return res"
   ]
  },
  {
   "cell_type": "code",
   "execution_count": 42,
   "metadata": {},
   "outputs": [],
   "source": [
    "def dictSortByVal(dictt): #сортировка словаря по values\n",
    "    return dict(sorted(dictt.items(), key= lambda x: x[1], reverse=True))"
   ]
  },
  {
   "cell_type": "code",
   "execution_count": 147,
   "metadata": {},
   "outputs": [],
   "source": [
    "def sybmolDesh(string, wordLen = 1, freq = freq, markReplace = ''): #дешифровка частотным методом, markReplace - символ для выделения измененных символов\n",
    "    freq = dictSortByVal(freq) #словарь введенных частот\n",
    "    allpc = dictSortByVal(alphaCount(string, wordLen)) #словрь подсчитанных в зашифрованном тексте\n",
    "    replaceDict = dict(zip(allpc.keys(), freq.keys())) # словарь соответвия\n",
    "    res = ['']\n",
    "    @recognizeStateMachine #заменяем все слова соответствующие словарю соответствия\n",
    "    def f(word):\n",
    "        if word in replaceDict:\n",
    "            res[0] += markReplace +  replaceDict[word] + markReplace\n",
    "            return ''\n",
    "        else:\n",
    "            res[0] += word[0]\n",
    "            return word[1:]\n",
    "    def isNotAlpha(word):\n",
    "        res[0] += word\n",
    "    f(string, wordLen, isNotAlpha)\n",
    "    return res[0]"
   ]
  },
  {
   "cell_type": "code",
   "execution_count": 40,
   "metadata": {},
   "outputs": [
    {
     "name": "stdout",
     "output_type": "stream",
     "text": [
      "Xehcw Rdncyl sxm xg Xpmnldxg-zhlg Oylfxg ihcdndkdxg srh sxm nry edknxnhl hw Oylfxgu wlhf 1933 pgndc rdm eyxnr dg 1945. Ry lhmy nh ihsyl xm nry cyxeyl hw nry Gxvd Ixlnu,[x] zykhfdgo nry krxgkycchl dg 1933 xge nryg xmmpfdgo nry ndncy hw WГјrlyl pge Lydkrmbxgvcyl dg 1934.[z] Epldgo rdm edknxnhlmrdi, ry dgdndxnye Shlce Sxl DD dg Yplhiy zu dgqxedgo Ihcxge hg 1 Myinyfzyl 1939. Ry sxm kchmycu dgqhcqye dg fdcdnxlu hiylxndhgm nrlhporhpn nry sxl xge sxm kygnlxc nh nry iyliynlxndhg hw nry Rhchkxpmn, nry oyghkdey hw xzhpn mdt fdccdhg Aysm xge fdccdhgm hw hnryl qdkndfm.\n",
      "\n",
      "Rdncyl sxm zhlg dg Xpmnldx-Rpgoxlu xge sxm lxdmye gyxl Cdgv. Ry cdqye dg Qdyggx cxnyl dg nry wdlmn eykxey hw nry 1900m xge fhqye nh Oylfxgu dg 1913. Ry sxm eykhlxnye epldgo rdm mylqdky dg nry Oylfxg Xlfu dg Shlce Sxl D. Dg 1919, ry ahdgye nry Oylfxg Shlbylm' Ixlnu (EXI), nry ilykplmhl hw nry Gxvd Ixlnu, xge sxm xiihdgnye cyxeyl hw nry Gxvd Ixlnu dg 1921. Dg 1923, ry xnnyfinye nh mydvy ohqylgfygnxc ihsyl dg x wxdcye khpi dg Fpgdkr xge sxm dfildmhgye sdnr x mygnygky hw wdqy uyxlm. Dg axdc, ry edknxnye nry wdlmn qhcpfy hw rdm xpnhzdholxiru xge ihcdndkxc fxgdwymnh Fydg Bxfiw (\"Fu Mnlpoocy\"). Xwnyl rdm yxlcu lycyxmy dg 1924, Rdncyl oxdgye ihipcxl mpiihln zu xnnxkbdgo nry Nlyxnu hw Qylmxdccym xge ilhfhndgo ixg-Oylfxgdmf, xgnd-Myfdndmf xge xgnd-khffpgdmf sdnr krxldmfxndk hlxnhlu xge Gxvd ilhixoxgex. Ry wlyjpygncu eyghpgkye dgnylgxndhgxc kxidnxcdmf xge khffpgdmf xm ixln hw x Aysdmr khgmidlxku.\n",
      "\n",
      "Zu Ghqyfzyl 1932, nry Gxvd Ixlnu ryce nry fhmn myxnm dg nry Oylfxg Lydkrmnxo, zpn ede ghn rxqy x fxahldnu. Xm x lympcn, gh ixlnu sxm xzcy nh whlf x fxahldnu ixlcdxfygnxlu khxcdndhg dg mpiihln hw x kxgedexny whl krxgkycchl. Whlfyl krxgkycchl Wlxgv qhg Ixiyg xge hnryl khgmylqxndqy cyxeylm iylmpxeye Ilymdeygn Ixpc qhg Rdgeygzplo nh xiihdgn Rdncyl xm krxgkycchl hg 30 Axgpxlu 1933. Mrhlncu xwnyl, nry Lydkrmnxo ixmmye nry Ygxzcdgo Xkn hw 1933 srdkr zyoxg nry ilhkymm hw nlxgmwhlfdgo nry Sydfxl Lyipzcdk dgnh Gxvd Oylfxgu, x hgy-ixlnu edknxnhlmrdi zxmye hg nry nhnxcdnxldxg xge xpnhklxndk deyhchou hw Gxvdmf. Rdncyl xdfye nh ycdfdgxny Aysm wlhf Oylfxgu xge ymnxzcdmr x Gys Hleyl nh khpgnyl srxn ry mxs xm nry dgapmndky hw nry ihmn-Shlce Sxl D dgnylgxndhgxc hleyl ehfdgxnye zu Zldnxdg xge Wlxgky. Rdm wdlmn mdt uyxlm dg ihsyl lympcnye dg lxide ykhghfdk lykhqylu wlhf nry Olyxn Eyilymmdhg, nry xzlhoxndhg hw lymnldkndhgm dfihmye hg Oylfxgu xwnyl Shlce Sxl D, xge nry xggytxndhg hw nylldnhldym dgrxzdnye zu fdccdhgm hw ynrgdk Oylfxgm, srdkr oxqy rdf mdogdwdkxgn ihipcxl mpiihln.\n",
      "\n",
      "Rdncyl mhporn Cyzygmlxpf (cdn.вЂ‰'cdqdgo mixky') whl nry Oylfxg iyhicy dg Yxmnylg Yplhiy, xge rdm xoolymmdqy whlydog ihcdku dm khgmdeylye nry ildfxlu kxpmy hw Shlce Sxl DD dg Yplhiy. Ry edlyknye cxloy-mkxcy lyxlfxfygn xge, hg 1 Myinyfzyl 1939, dgqxeye Ihcxge, lympcndgo dg Zldnxdg xge Wlxgky eykcxldgo sxl hg Oylfxgu. Dg Apgy 1941, Rdncyl hleylye xg dgqxmdhg hw nry Mhqdyn Pgdhg. Zu nry yge hw 1941, Oylfxg whlkym xge nry Yplhiyxg Xtdm ihsylm hkkpidye fhmn hw Yplhiy xge Ghlnr Xwldkx. Nrymy oxdgm syly olxepxccu lyqylmye xwnyl 1941, xge dg 1945 nry Xccdye xlfdym eywyxnye nry Oylfxg xlfu. Hg 29 Xildc 1945, ry fxlldye rdm chgondfy chqyl, Yqx Zlxpg, dg nry WГјrlylzpgbyl dg Zylcdg. Cymm nrxg nsh exum cxnyl, nry khpicy khffdnnye mpdkdey nh xqhde kxinply zu nry Mhqdyn Lye Xlfu. Nrydl khlimym syly zplgye.\n",
      "\n",
      "Rdmnhldxg xge zdholxiryl Dxg Bylmrxs eymkldzym Rdncyl xm \"nry yfzhedfygn hw fheylg ihcdndkxc yqdc\".[4] Pgeyl Rdncyl'm cyxeylmrdi xge lxkdxccu fhndqxnye deyhchou, nry Gxvd lyodfy sxm lymihgmdzcy whl nry oyghkdey hw xzhpn mdt fdccdhg Aysm xge fdccdhgm hw hnryl qdkndfm, srhf ry xge rdm whcchsylm eyyfye Pgnylfygmkryg (mpzrpfxgm) hl mhkdxccu pgeymdlxzcy. Rdncyl xge nry Gxvd lyodfy syly xcmh lymihgmdzcy whl nry bdccdgo hw xg ymndfxnye 19.3 fdccdhg kdqdcdxgm xge ildmhgylm hw sxl. Dg xeedndhg, 28.7 fdccdhg mhcedylm xge kdqdcdxgm edye xm x lympcn hw fdcdnxlu xkndhg dg nry Yplhiyxg nryxnly. Nry gpfzyl hw kdqdcdxgm bdccye epldgo Shlce Sxl DD sxm pgilykyeygnye dg sxlwxly, xge nry kxmpxcndym khgmndnpny nry eyxecdymn khgwcdkn dg rdmnhlu. \n",
      "\n"
     ]
    }
   ],
   "source": [
    "#print(mainText, \"\\n\")\n",
    "print(caeasarShifr(mainText, 2, \"keyword\"), \"\\n\")\n",
    "#print(sybmolDesh(substitutionSh(mainText, 2), 2), \"\\n\")"
   ]
  }
 ],
 "metadata": {
  "interpreter": {
   "hash": "4fee5f00e471604f138b2a95ee5c96a7fea853470284bcce1030f4018e4910da"
  },
  "kernelspec": {
   "display_name": "Python 3.9.10 64-bit",
   "language": "python",
   "name": "python3"
  },
  "language_info": {
   "codemirror_mode": {
    "name": "ipython",
    "version": 3
   },
   "file_extension": ".py",
   "mimetype": "text/x-python",
   "name": "python",
   "nbconvert_exporter": "python",
   "pygments_lexer": "ipython3",
   "version": "3.9.10"
  },
  "orig_nbformat": 4
 },
 "nbformat": 4,
 "nbformat_minor": 2
}
