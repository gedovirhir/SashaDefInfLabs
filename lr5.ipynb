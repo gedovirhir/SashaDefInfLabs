{
 "cells": [
  {
   "cell_type": "code",
   "execution_count": 37,
   "metadata": {},
   "outputs": [],
   "source": [
    "import math"
   ]
  },
  {
   "cell_type": "code",
   "execution_count": 63,
   "metadata": {},
   "outputs": [],
   "source": [
    "def substitutionSh(word, k, deSh = False, **kwargs):\n",
    "    delta = -k if deSh else k #определяем отступ\n",
    "    alphc = ord(\"Z\") - ord(\"A\") + 1 #размер алфавита\n",
    "    res = ''\n",
    "    for i in word:\n",
    "        if not i.isalpha():\n",
    "            res += i\n",
    "            continue\n",
    "        if i.islower(): #сдвигаем элемент по ascii таблице в зависимости от регистра\n",
    "            res += chr((ord(i) + delta - ord(\"a\")) % alphc + ord(\"a\")) \n",
    "        else:\n",
    "            res += chr((ord(i) + delta - ord(\"A\")) % alphc + ord(\"A\"))\n",
    "    return res"
   ]
  },
  {
   "cell_type": "code",
   "execution_count": 134,
   "metadata": {},
   "outputs": [],
   "source": [
    "#Частота букв\n",
    "ABC = \"zqjxkvbwypgumcfldhsirnoate\" #1-граммы\n",
    "ABC = ['th', 'he', 'in', 'er', 'an', 're', 'on', 'at', 'en', 'nd', 'ti', 'es', 'or', 'te', 'of', 'ed', 'is', 'it', 'al', 'ar'] #2-граммы \n",
    "frequency = [0.07, 0.11, 0.13, 0.15, 0.4, 0.9, 1.4, 1.5, 1.9, 1.9, 2, 2.4, 2.5, 2.7, 2.9, 3.4, 3.8, 5.2, 6.1, 6.3, 6.8, 7.1, 7.9, 8.1, 10.5, 13] #1-граммы\n",
    "frequency = [ #2-граммы\n",
    "3.56,\n",
    "3.07,\n",
    "2.43,\n",
    "2.05,\n",
    "1.99,\n",
    "1.85,\n",
    "1.76,\n",
    "1.49,\n",
    "1.45,\n",
    "1.35,\n",
    "1.34,\n",
    "1.34,\n",
    "1.28,\n",
    "1.20,\n",
    "1.17,\n",
    "1.17,\n",
    "1.13,\n",
    "1.12,\n",
    "1.09,\n",
    "1.07\n",
    "]\n",
    "freq = dict(zip(ABC, [round(i / 100, 4) for i in frequency])) #словарь соответствий"
   ]
  },
  {
   "cell_type": "code",
   "execution_count": 81,
   "metadata": {},
   "outputs": [],
   "source": [
    "with open(\"text.txt\") as f: #считываем текст из файла\n",
    "    mainText = f.read()\n",
    "#mainText = \"By definition, IP is an estimate of the sum of the squares of the probabilities of each letter. With a multi-alphabetic substitution for the English language, depending on the number of alphabets used in encryption (m), the IP is expected\""
   ]
  },
  {
   "cell_type": "code",
   "execution_count": 141,
   "metadata": {},
   "outputs": [],
   "source": [
    "def recognizeStateMachine(func): #декоратор - конечный автомат распознвания слов длины wordLen, func - функция применяемая к распознанному слову\n",
    "    \"\"\"\n",
    "    funcOnNotAlpha - функция на обработку не буквенных символов\n",
    "    \"\"\"\n",
    "    def f(string, wordLen, funcOnNotAlpha = lambda x: x): \n",
    "        word = ''\n",
    "        for i in string:\n",
    "            if i.isalpha():\n",
    "                word += i.lower()\n",
    "                if len(word) == wordLen:\n",
    "                    word = func(word)\n",
    "            else:\n",
    "                funcOnNotAlpha(word + i)\n",
    "                word = ''\n",
    "    return f"
   ]
  },
  {
   "cell_type": "code",
   "execution_count": null,
   "metadata": {},
   "outputs": [],
   "source": [
    "def alphaLen(string, wordLen = 1): #подсчет количества слов длины wordLen\n",
    "    ln = [0]\n",
    "    @recognizeStateMachine\n",
    "    def f(word):\n",
    "        ln[0] += 1\n",
    "        return word[1:]\n",
    "    f(string, wordLen)\n",
    "    return ln[0]\n",
    "def alphaCount(string, wordLen = 1): #подсчитываем количественные отношения всех слов длины wordLen к общему кол-ву слов\n",
    "    res = dict({})\n",
    "    ln = alphaLen(string, wordLen)\n",
    "    @recognizeStateMachine\n",
    "    def f(word):\n",
    "        if word not in res:\n",
    "            res.update({word : 1 / ln})\n",
    "        else:\n",
    "            res[word] += 1 / ln\n",
    "        return word[1:]\n",
    "    f(string, wordLen)\n",
    "    return res"
   ]
  },
  {
   "cell_type": "code",
   "execution_count": 42,
   "metadata": {},
   "outputs": [],
   "source": [
    "def dictSortByVal(dictt): #сортировка словаря по values\n",
    "    return dict(sorted(dictt.items(), key= lambda x: x[1], reverse=True))"
   ]
  },
  {
   "cell_type": "code",
   "execution_count": 147,
   "metadata": {},
   "outputs": [],
   "source": [
    "def sybmolDesh(string, wordLen = 1, freq = freq, markReplace = ''): #дешифровка частотным методом, markReplace - символ для выделения измененных символов\n",
    "    freq = dictSortByVal(freq) #словарь введенных частот\n",
    "    allpc = dictSortByVal(alphaCount(string, wordLen)) #словрь подсчитанных в зашифрованном тексте\n",
    "    replaceDict = dict(zip(allpc.keys(), freq.keys())) # словарь соответвия\n",
    "    res = ['']\n",
    "    @recognizeStateMachine #заменяем все слова соответствующие словарю соответствия\n",
    "    def f(word):\n",
    "        if word in replaceDict:\n",
    "            res[0] += markReplace +  replaceDict[word] + markReplace\n",
    "            return ''\n",
    "        else:\n",
    "            res[0] += word[0]\n",
    "            return word[1:]\n",
    "    def isNotAlpha(word):\n",
    "        res[0] += word\n",
    "    f(string, wordLen, isNotAlpha)\n",
    "    return res[0]"
   ]
  },
  {
   "cell_type": "code",
   "execution_count": 155,
   "metadata": {},
   "outputs": [
    {
     "name": "stdout",
     "output_type": "stream",
     "text": [
      "Cfqnh Jkvngt ycu cp Cwuvtkcp-dqtp Igtocp rqnkvkekcp yjq ycu vjg fkevcvqt qh Igtocpa htqo 1933 wpvkn jku fgcvj kp 1945. Jg tqug vq rqygt cu vjg ngcfgt qh vjg Pcbk Rctva,[c] dgeqokpi vjg ejcpegnnqt kp 1933 cpf vjgp cuuwokpi vjg vkvng qh HSdjtgt wpf Tgkejumcpbngt kp 1934.[d] Fwtkpi jku fkevcvqtujkr, jg kpkvkcvgf Yqtnf Yct KK kp Gwtqrg da kpxcfkpi Rqncpf qp 1 Ugrvgodgt 1939. Jg ycu enqugna kpxqnxgf kp oknkvcta qrgtcvkqpu vjtqwijqwv vjg yct cpf ycu egpvtcn vq vjg rgtrgvtcvkqp qh vjg Jqnqecwuv, vjg igpqekfg qh cdqwv ukz oknnkqp Lgyu cpf oknnkqpu qh qvjgt xkevkou.\n",
      "\n",
      "Jkvngt ycu dqtp kp Cwuvtkc-Jwpicta cpf ycu tckugf pgct Nkpb. Jg nkxgf kp Xkgppc ncvgt kp vjg hktuv fgecfg qh vjg 1900u cpf oqxgf vq Igtocpa kp 1913. Jg ycu fgeqtcvgf fwtkpi jku ugtxkeg kp vjg Igtocp Ctoa kp Yqtnf Yct K. Kp 1919, jg lqkpgf vjg Igtocp Yqtmgtu' Rctva (FCR), vjg rtgewtuqt qh vjg Pcbk Rctva, cpf ycu crrqkpvgf ngcfgt qh vjg Pcbk Rctva kp 1921. Kp 1923, jg cvvgorvgf vq ugkbg iqxgtpogpvcn rqygt kp c hckngf eqwr kp Owpkej cpf ycu kortkuqpgf ykvj c ugpvgpeg qh hkxg agctu. Kp lckn, jg fkevcvgf vjg hktuv xqnwog qh jku cwvqdkqitcrja cpf rqnkvkecn ocpkhguvq Ogkp Mcorh (\"Oa Uvtwiing\"). Chvgt jku gctna tgngcug kp 1924, Jkvngt ickpgf rqrwnct uwrrqtv da cvvcemkpi vjg Vtgcva qh Xgtucknngu cpf rtqoqvkpi rcp-Igtocpkuo, cpvk-Ugokvkuo cpf cpvk-eqoowpkuo ykvj ejctkuocvke qtcvqta cpf Pcbk rtqrcicpfc. Jg htgswgpvna fgpqwpegf kpvgtpcvkqpcn ecrkvcnkuo cpf eqoowpkuo cu rctv qh c Lgykuj eqpurktcea.\n",
      "\n",
      "Da Pqxgodgt 1932, vjg Pcbk Rctva jgnf vjg oquv ugcvu kp vjg Igtocp Tgkejuvci, dwv fkf pqv jcxg c oclqtkva. Cu c tguwnv, pq rctva ycu cdng vq hqto c oclqtkva rctnkcogpvcta eqcnkvkqp kp uwrrqtv qh c ecpfkfcvg hqt ejcpegnnqt. Hqtogt ejcpegnnqt Htcpb xqp Rcrgp cpf qvjgt eqpugtxcvkxg ngcfgtu rgtuwcfgf Rtgukfgpv Rcwn xqp Jkpfgpdwti vq crrqkpv Jkvngt cu ejcpegnnqt qp 30 Lcpwcta 1933. Ujqtvna chvgt, vjg Tgkejuvci rcuugf vjg Gpcdnkpi Cev qh 1933 yjkej dgicp vjg rtqeguu qh vtcpuhqtokpi vjg Ygkoct Tgrwdnke kpvq Pcbk Igtocpa, c qpg-rctva fkevcvqtujkr dcugf qp vjg vqvcnkvctkcp cpf cwvqetcvke kfgqnqia qh Pcbkuo. Jkvngt ckogf vq gnkokpcvg Lgyu htqo Igtocpa cpf guvcdnkuj c Pgy Qtfgt vq eqwpvgt yjcv jg ucy cu vjg kplwuvkeg qh vjg rquv-Yqtnf Yct K kpvgtpcvkqpcn qtfgt fqokpcvgf da Dtkvckp cpf Htcpeg. Jku hktuv ukz agctu kp rqygt tguwnvgf kp tcrkf geqpqoke tgeqxgta htqo vjg Itgcv Fgrtguukqp, vjg cdtqicvkqp qh tguvtkevkqpu korqugf qp Igtocpa chvgt Yqtnf Yct K, cpf vjg cppgzcvkqp qh vgttkvqtkgu kpjcdkvgf da oknnkqpu qh gvjpke Igtocpu, yjkej icxg jko ukipkhkecpv rqrwnct uwrrqtv.\n",
      "\n",
      "Jkvngt uqwijv Ngdgputcwo (nkv.rB‰'nkxkpi urceg') hqt vjg Igtocp rgqrng kp Gcuvgtp Gwtqrg, cpf jku ciitguukxg hqtgkip rqnkea ku eqpukfgtgf vjg rtkocta ecwug qh Yqtnf Yct KK kp Gwtqrg. Jg fktgevgf nctig-uecng tgctocogpv cpf, qp 1 Ugrvgodgt 1939, kpxcfgf Rqncpf, tguwnvkpi kp Dtkvckp cpf Htcpeg fgenctkpi yct qp Igtocpa. Kp Lwpg 1941, Jkvngt qtfgtgf cp kpxcukqp qh vjg Uqxkgv Wpkqp. Da vjg gpf qh 1941, Igtocp hqtegu cpf vjg Gwtqrgcp Czku rqygtu qeewrkgf oquv qh Gwtqrg cpf Pqtvj Chtkec. Vjgug ickpu ygtg itcfwcnna tgxgtugf chvgt 1941, cpf kp 1945 vjg Cnnkgf ctokgu fghgcvgf vjg Igtocp ctoa. Qp 29 Crtkn 1945, jg octtkgf jku nqpivkog nqxgt, Gxc Dtcwp, kp vjg HSdjtgtdwpmgt kp Dgtnkp. Nguu vjcp vyq fcau ncvgt, vjg eqwrng eqookvvgf uwkekfg vq cxqkf ecrvwtg da vjg Uqxkgv Tgf Ctoa. Vjgkt eqtrugu ygtg dwtpgf.\n",
      "\n",
      "Jkuvqtkcp cpf dkqitcrjgt Kcp Mgtujcy fguetkdgu Jkvngt cu \"vjg godqfkogpv qh oqfgtp rqnkvkecn gxkn\".[4] Wpfgt Jkvngt'u ngcfgtujkr cpf tcekcnna oqvkxcvgf kfgqnqia, vjg Pcbk tgikog ycu tgurqpukdng hqt vjg igpqekfg qh cdqwv ukz oknnkqp Lgyu cpf oknnkqpu qh qvjgt xkevkou, yjqo jg cpf jku hqnnqygtu fggogf Wpvgtogpuejgp (uwdjwocpu) qt uqekcnna wpfguktcdng. Jkvngt cpf vjg Pcbk tgikog ygtg cnuq tgurqpukdng hqt vjg mknnkpi qh cp guvkocvgf 19.3 oknnkqp ekxknkcpu cpf rtkuqpgtu qh yct. Kp cffkvkqp, 28.7 oknnkqp uqnfkgtu cpf ekxknkcpu fkgf cu c tguwnv qh oknkvcta cevkqp kp vjg Gwtqrgcp vjgcvtg. Vjg pwodgt qh ekxknkcpu mknngf fwtkpi Yqtnf Yct KK ycu wprtgegfgpvgf kp ycthctg, cpf vjg ecuwcnvkgu eqpuvkvwvg vjg fgcfnkguv eqphnkev kp jkuvqta. \n",
      "\n",
      "{'gt': 'th', 'cp': 'he', 'jg': 'in', 'kp': 'er', 'vj': 'an', 'qt': 're', 'ct': 'on', 'gf': 'at', 'qp': 'en', 'pf': 'nd', 'tg': 'ti', 'kv': 'es', 'nk': 'or', 'vg': 'te', 'vk': 'of', 'cv': 'ed', 'qh': 'is', 'fg': 'it', 'ng': 'al', 'jk': 'ar'}\n",
      "cfqnh arvnth ycu he cwuvtkhe-dqtp igtohe rqorofekhe yjq ycu ang fkevedre is igtohea htqo 1933 wpofn aru itedj er 1945. in tqug vq rqygt cu ang alcfth is ang pcbk rctva,[c] dgeqokpi ang ejheegnnre er 1933 hef angp cuuwokpi ang ofvng is hsdjtit wpf tikejumcpbalt er 1934.[d] fwtkpi aru fkevedreujkr, in ereskctef yqtnf yct kk er gwtqrg da erxcfkpi rqncnd en 1 ugrvgodgt 1939. in ycu enqugna erxqnxat er okorvcta qrthedkqpu antqwijqwv ang yct hef ycu egpvtcn vq ang rgtrgvtcofen is ang jqnqecwuv, ang igpqekit is cdqwv ukz oknnkqp lgyu hef oknnkqpu is qvint xkevkou.\n",
      "\n",
      "arvnth ycu dqtp er cwuvtkc-jwpiona hef ycu tckuat pgon orpb. in orxgf er xkgppc nctet er ang hktuv itecit is ang 1900u hef oqxgf vq igtohea er 1913. in ycu iteqtctef fwtkpi aru ugtxkeg er ang igtohe onoa er yqtnf yct k. er 1919, in lqerat ang igtohe yqtmthu' rctva (fcr), ang rtgewtuqt is ang pcbk rctva, hef ycu crrqertef alcfth is ang pcbk rctva er 1921. er 1923, in edteortef vq ugkbg iqxgtpogpvcn rqygt er c hcknat eqwr er owpkej hef ycu kortkuenat ykan c ugpvgpeg is hkxg agonu. er lckn, in fkevedat ang hktuv xqnwog is aru cwvqdkqitcrja hef rqorofecn ocpkhguvq oger mcorh (\"oa uvtwiial\"). chtet aru gctna tialcug er 1924, arvnth icerat rqrwnct uwrrrev da edvcemeri ang vtgcva is xgtucknngu hef rtqoqveri rcp-igtohekuo, heof-ugokofuo hef heof-eqoowpkuo ykan ejonkuocofe reedrea hef pcbk rtqrcihefc. in htgswgpvna itpqwpegf ertetpedkqpcn ecrkvcoruo hef eqoowpkuo cu rctv is c lgykuj eqpurktcea.\n",
      "\n",
      "da pqxgodth 1932, ang pcbk rctva innf ang oquv ugedu er ang igtohe tikejuvci, dwv fkf pqv jcxg c oclqtkva. cu c tiuwnv, pq rctva ycu cdal vq hqto c oclqtkva rctnkcogpvona eqcneskqp er uwrrrev is c ecndkfedg hqt ejheegnnre. hqtoth ejheegnnre htheb xqp rcrgp hef qvint eqputhxcofxg alcfthu rgtuwcitf rtgukfgpv rcwn xqp arndgpdwti vq crrqerv arvnth cu ejheegnnre en 30 lcpwona 1933. ujrevna chtet, ang tikejuvci rcuuat ang gpcdorpi cev is 1933 yjkej dgicp ang rtqeguu is vtheuhreokpi ang ygkoon tirwdnke ervq pcbk igtohea, c eng-rctva fkevedreujkr dcugf en ang vqvcorvctkhe hef cwvqetedke kfgqnqia is pcbkuo. arvnth ckogf vq gnkoeredg lgyu htqo igtohea hef guvcdnkuj c pgy reitt vq eqwptet yjed in ucy cu ang erlwuvkeg is ang rquv-yqtnf yct k ertetpedkqpcn reitt fqokpctef da dtesckp hef htheeg. aru hktuv ukz agonu er rqygt tiuwnvat er tcrkf geenqoke tieqxgta htqo ang itgcv itrtguuken, ang cdtqicofen is tiuvtkevkqpu korqugf en igtohea chtet yqtnf yct k, hef ang hepgzcofen is tettesrekgu erjcdktef da oknnkqpu is gvjpke igtoheu, yjkej icxg aro ukipkhkehev rqrwnct uwrrrev.\n",
      "\n",
      "arvnth uqwijv aldgputcwo (orv.rb‰'orxkpi urceg') hqt ang igtohe rgqral er gcuvthp gwtqrg, hef aru ciitguukxg hqtikip rqorea ku eqpukfthat ang rtkoona ecwug is yqtnf yct kk er gwtqrg. in fktievat nctig-uecng tionocogpv hef, en 1 ugrvgodgt 1939, erxcitf rqncnd, tiuwnveri er dtesckp hef htheeg itenoneri yct en igtohea. er lwpg 1941, arvnth reittif he erxcuken is ang uqxkgv wpkqp. da ang gpf is 1941, igtohe hqtegu hef ang gwtqrghe czku rqygtu qeewrkat oquv is gwtqrg hef pqtvj chtkec. angug iceru ygti itcfwcnna tixgtuat chtet 1941, hef er 1945 ang cnorat onokgu ithgedat ang igtohe onoa. en 29 crtkn 1945, in octtkgf aru nqpiofog nqxgt, gxc dtcwp, er ang hsdjtitdwpmgt er dgtner. aluu anhe vyq fcau nctet, ang eqwral eqooestef uwkekfg vq cxqkf ecrvwtg da ang uqxkgv tif onoa. angkt eqtrugu ygti dwtpat.\n",
      "\n",
      "aruvrekcp hef dkqitcrjth kcp mgtujcy ituetkdgu arvnth cu \"ang godqfkogpv is oqittp rqorofecn gxkn\".[4] wpitt arvnth'u alcfthujkr hef tcekcnna oqofxctef kfgqnqia, ang pcbk tiikog ycu tiurenukdng hqt ang igpqekit is cdqwv ukz oknnkqp lgyu hef oknnkqpu is qvint xkevkou, yjqo in hef aru hqnnqythu itgoat wptetogpueinp (uwdjwoheu) re uqekcnna wpituktcdng. arvnth hef ang pcbk tiikog ygti cnuq tiurenukdng hqt ang mknneri is he guofoctef 19.3 oknnkqp ekxkorheu hef rtkuenthu is yct. er cffkofen, 28.7 oknnkqp uqnfkgtu hef ekxkorheu fkat cu c tiuwnv is okorvcta ceofen er ang gwtqrghe angcvtg. ang pwodth is ekxkorheu mknnat fwtkpi yqtnf yct kk ycu wprtgeatgptef er ycthong, hef ang ecuwcnofgu eqpuofvwte ang itcforguv eqphorev er aruvrea. \n",
      "\n"
     ]
    }
   ],
   "source": [
    "print(mainText, \"\\n\")\n",
    "print(substitutionSh(mainText, 2), \"\\n\")\n",
    "print(sybmolDesh(substitutionSh(mainText, 2), 2), \"\\n\")"
   ]
  }
 ],
 "metadata": {
  "interpreter": {
   "hash": "4fee5f00e471604f138b2a95ee5c96a7fea853470284bcce1030f4018e4910da"
  },
  "kernelspec": {
   "display_name": "Python 3.9.10 64-bit",
   "language": "python",
   "name": "python3"
  },
  "language_info": {
   "codemirror_mode": {
    "name": "ipython",
    "version": 3
   },
   "file_extension": ".py",
   "mimetype": "text/x-python",
   "name": "python",
   "nbconvert_exporter": "python",
   "pygments_lexer": "ipython3",
   "version": "3.9.10"
  },
  "orig_nbformat": 4
 },
 "nbformat": 4,
 "nbformat_minor": 2
}
